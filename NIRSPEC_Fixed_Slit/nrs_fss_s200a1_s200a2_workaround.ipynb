{
 "cells": [
  {
   "cell_type": "markdown",
   "id": "b94373b8",
   "metadata": {},
   "source": [
    "The notebook creates a single 1D extracted spectrum (x1d product) with continuous wavelength coverage from  an observation with SLIT = \"S200A1 and S200A2\" in APT. Use this workaround until this product is available by default in the MAST archive."
   ]
  },
  {
   "cell_type": "markdown",
   "source": [
    "## DEPRECATION NOTE:\n",
    "\n",
    "This notebook is deprecated. Data products generated with calibration software version 1.12.5 or later, and CRDS context jwst_1166.pmap or later, no longer require this workaround. Data products in MAST created after December 5, 2023, no longer require this workaround. To check creation dates for files in MAST, substitute your program ID for 2288 at the end of this URL:\n",
    "\n",
    "https://mast.stsci.edu/search/ui/#/jwst/results?select_cols=fileSetName,dataset,cal_ver,crds_ctx,date&program_id=2288"
   ],
   "metadata": {
    "collapsed": false
   },
   "id": "64b990c3643406d4"
  },
  {
   "cell_type": "code",
   "execution_count": 1,
   "id": "b65099cf",
   "metadata": {},
   "outputs": [],
   "source": [
    "import json\n",
    "import requests\n",
    "from matplotlib import pyplot as plt\n",
    "from pathlib import Path\n",
    "\n",
    "from astropy.io import fits"
   ]
  },
  {
   "cell_type": "markdown",
   "id": "c22545e7",
   "metadata": {},
   "source": [
    "Define function to download a named file via the MAST API. The function includes authentication logic, but this example uses public data, so no MAST API token is required."
   ]
  },
  {
   "cell_type": "code",
   "execution_count": 2,
   "id": "f1749021",
   "metadata": {},
   "outputs": [],
   "source": [
    "def get_jwst_file(name, mast_api_token=None):\n",
    "    \"\"\"Retrieve a JWST data file from MAST archive.\"\"\"\n",
    "    mast_url = \"https://mast.stsci.edu/api/v0.1/Download/file\"\n",
    "    params = dict(uri=f\"mast:JWST/product/{name}\")\n",
    "    if mast_api_token:\n",
    "        headers = dict(Authorization=f\"token {get_mast_api_token()}\")\n",
    "    else:\n",
    "        headers = {}\n",
    "    r = requests.get(mast_url, params=params, headers=headers, stream=True)\n",
    "    r.raise_for_status()\n",
    "    with open(name, \"wb\") as fobj:\n",
    "        for chunk in r.iter_content(chunk_size=1024000):\n",
    "            fobj.write(chunk)"
   ]
  },
  {
   "cell_type": "markdown",
   "id": "316f08a0",
   "metadata": {},
   "source": [
    "Create list of filenames. Download data from MAST."
   ]
  },
  {
   "cell_type": "code",
   "execution_count": 3,
   "id": "1937b8e4",
   "metadata": {},
   "outputs": [
    {
     "name": "stdout",
     "output_type": "stream",
     "text": [
      "Downloading jw02288003001_04102_00001_nrs1_cal.fits\n",
      "Downloading jw02288003001_04102_00001_nrs2_cal.fits\n",
      "Downloading jw02288003001_04102_00002_nrs1_cal.fits\n",
      "Downloading jw02288003001_04102_00002_nrs2_cal.fits\n",
      "Downloading jw02288003001_04104_00001_nrs1_cal.fits\n",
      "Downloading jw02288003001_04104_00001_nrs2_cal.fits\n",
      "Downloading jw02288003001_04104_00002_nrs1_cal.fits\n",
      "Downloading jw02288003001_04104_00002_nrs2_cal.fits\n"
     ]
    }
   ],
   "source": [
    "names = []\n",
    "for activity in [2, 4]:\n",
    "    for exposure in [1, 2]:\n",
    "        for detector in [1, 2]:\n",
    "            names.append(f'jw02288003001_041{activity:02}_{exposure:05}_nrs{detector}_cal.fits')\n",
    "for name in names:\n",
    "    print(f'Downloading {name}')\n",
    "    get_jwst_file(name)"
   ]
  },
  {
   "cell_type": "markdown",
   "id": "1bdb89df",
   "metadata": {},
   "source": [
    "Update SCI extension headers, so that SOURCEID=1 for spectra of the science target and SOURCEID has different values for spectra of other patches of sky. This compensates for default source numbering that is confusing.\n",
    "\n",
    "Context: Each cal product includes a 'SCI' extension for each NIRSpec fixed slit that projects to the subarray in use. NIRSpec has five fixed slits, listed in the slitnum dictionary below."
   ]
  },
  {
   "cell_type": "code",
   "execution_count": 4,
   "id": "21123ae4",
   "metadata": {},
   "outputs": [
    {
     "name": "stdout",
     "output_type": "stream",
     "text": [
      "jw02288003001_04102_00001_nrs1_cal.fits, grating=G140H\n",
      "  target in S200A1  (slitnum=1)\n",
      "  source in S200A1  (slitnum=1), sourceid: 01 -> 01\n",
      "  source in S200A2  (slitnum=2), sourceid: 02 -> 12\n",
      "  source in S400A1  (slitnum=3), sourceid: 03 -> 13\n",
      "  source in S1600A1 (slitnum=4), sourceid: 04 -> 14\n",
      "jw02288003001_04102_00001_nrs2_cal.fits, grating=G140H\n",
      "  target in S200A1  (slitnum=1)\n",
      "  source in S200A1  (slitnum=1), sourceid: 01 -> 01\n",
      "  source in S200A2  (slitnum=2), sourceid: 02 -> 12\n",
      "  source in S400A1  (slitnum=3), sourceid: 03 -> 13\n",
      "  source in S1600A1 (slitnum=4), sourceid: 04 -> 14\n",
      "  source in S200B1  (slitnum=5), sourceid: 05 -> 15\n",
      "jw02288003001_04102_00002_nrs1_cal.fits, grating=G140H\n",
      "  target in S200A1  (slitnum=1)\n",
      "  source in S200A1  (slitnum=1), sourceid: 01 -> 01\n",
      "  source in S200A2  (slitnum=2), sourceid: 02 -> 12\n",
      "  source in S400A1  (slitnum=3), sourceid: 03 -> 13\n",
      "  source in S1600A1 (slitnum=4), sourceid: 04 -> 14\n",
      "jw02288003001_04102_00002_nrs2_cal.fits, grating=G140H\n",
      "  target in S200A1  (slitnum=1)\n",
      "  source in S200A1  (slitnum=1), sourceid: 01 -> 01\n",
      "  source in S200A2  (slitnum=2), sourceid: 02 -> 12\n",
      "  source in S400A1  (slitnum=3), sourceid: 03 -> 13\n",
      "  source in S1600A1 (slitnum=4), sourceid: 04 -> 14\n",
      "  source in S200B1  (slitnum=5), sourceid: 05 -> 15\n",
      "jw02288003001_04104_00001_nrs1_cal.fits, grating=G140H\n",
      "  target in S200A2  (slitnum=2)\n",
      "  source in S200A1  (slitnum=1), sourceid: 01 -> 21\n",
      "  source in S200A2  (slitnum=2), sourceid: 02 -> 01\n",
      "  source in S400A1  (slitnum=3), sourceid: 03 -> 23\n",
      "  source in S1600A1 (slitnum=4), sourceid: 04 -> 24\n",
      "jw02288003001_04104_00001_nrs2_cal.fits, grating=G140H\n",
      "  target in S200A2  (slitnum=2)\n",
      "  source in S200A1  (slitnum=1), sourceid: 01 -> 21\n",
      "  source in S200A2  (slitnum=2), sourceid: 02 -> 01\n",
      "  source in S400A1  (slitnum=3), sourceid: 03 -> 23\n",
      "  source in S1600A1 (slitnum=4), sourceid: 04 -> 24\n",
      "  source in S200B1  (slitnum=5), sourceid: 05 -> 25\n",
      "jw02288003001_04104_00002_nrs1_cal.fits, grating=G140H\n",
      "  target in S200A2  (slitnum=2)\n",
      "  source in S200A1  (slitnum=1), sourceid: 01 -> 21\n",
      "  source in S200A2  (slitnum=2), sourceid: 02 -> 01\n",
      "  source in S400A1  (slitnum=3), sourceid: 03 -> 23\n",
      "  source in S1600A1 (slitnum=4), sourceid: 04 -> 24\n",
      "jw02288003001_04104_00002_nrs2_cal.fits, grating=G140H\n",
      "  target in S200A2  (slitnum=2)\n",
      "  source in S200A1  (slitnum=1), sourceid: 01 -> 21\n",
      "  source in S200A2  (slitnum=2), sourceid: 02 -> 01\n",
      "  source in S400A1  (slitnum=3), sourceid: 03 -> 23\n",
      "  source in S1600A1 (slitnum=4), sourceid: 04 -> 24\n",
      "  source in S200B1  (slitnum=5), sourceid: 05 -> 25\n"
     ]
    }
   ],
   "source": [
    "slitnum = {'S200A1': 1, 'S200A2': 2, 'S400A1': 3, 'S1600A1': 4, 'S200B1': 5}\n",
    "for name in names:\n",
    "    with fits.open(name, 'update') as hdulist:\n",
    "        fxd_slit = hdulist[0].header['fxd_slit']\n",
    "        grating = hdulist[0].header['grating']\n",
    "        print(f'{name}, grating={grating}')\n",
    "        print(f'  target in {fxd_slit:7} (slitnum={slitnum[fxd_slit]})')\n",
    "        for extnum in range(len(hdulist)):\n",
    "            hdu = hdulist[extnum]\n",
    "            if hdu.name == 'SCI':\n",
    "                sltname = hdu.header['sltname']\n",
    "                sourceid = hdu.header['sourceid']\n",
    "                if sltname == fxd_slit:\n",
    "                    newid = 1\n",
    "                else:\n",
    "                    newid = 10 * slitnum[fxd_slit] + slitnum[sltname]\n",
    "                print(\n",
    "                    f'  source in {sltname:7} (slitnum={slitnum[sltname]}), '\n",
    "                    f'sourceid: {sourceid:02} -> {newid:02}')\n",
    "                hdu.header['sourceid'] = newid\n"
   ]
  },
  {
   "cell_type": "markdown",
   "id": "0601c5ed",
   "metadata": {},
   "source": [
    "Download an association file (json) for one of the two slits."
   ]
  },
  {
   "cell_type": "code",
   "execution_count": 5,
   "id": "7fe15ec7",
   "metadata": {},
   "outputs": [
    {
     "name": "stdout",
     "output_type": "stream",
     "text": [
      "Downloading jw02288-o003_20230527t003136_spec3_00001_asn.json\n"
     ]
    }
   ],
   "source": [
    "pool_version = '20230527t003136'\n",
    "orig_json_name = f'jw02288-o003_{pool_version}_spec3_00001_asn.json'\n",
    "print(f'Downloading {orig_json_name}')\n",
    "get_jwst_file(orig_json_name)"
   ]
  },
  {
   "cell_type": "markdown",
   "id": "da6d7221",
   "metadata": {},
   "source": [
    "Dump contents of the original association file."
   ]
  },
  {
   "cell_type": "code",
   "execution_count": 6,
   "id": "29c70d71",
   "metadata": {},
   "outputs": [
    {
     "name": "stdout",
     "output_type": "stream",
     "text": [
      "{\r\n",
      "    \"asn_type\": \"spec3\",\r\n",
      "    \"asn_rule\": \"candidate_Asn_Lv3NRSFSS\",\r\n",
      "    \"version_id\": \"20230527t003136\",\r\n",
      "    \"code_version\": \"1.10.1\",\r\n",
      "    \"degraded_status\": \"No known degraded exposures in association.\",\r\n",
      "    \"program\": \"02288\",\r\n",
      "    \"constraints\": \"DMSAttrConstraint({'name': 'program', 'sources': ['program'], 'value': '2288'})\\nDMSAttrConstraint({'name': 'instrument', 'sources': ['instrume'], 'value': 'nirspec'})\\nDMSAttrConstraint({'name': 'exp_type', 'sources': ['exp_type'], 'value': 'nrs_autoflat|nrs_autowave|nrs_fixedslit'})\\nDMSAttrConstraint({'name': 'opt_elem', 'sources': ['filter'], 'value': 'f170lp'})\\nDMSAttrConstraint({'name': 'opt_elem2', 'sources': ['grating'], 'value': 'g235h'})\\nDMSAttrConstraint({'name': 'opt_elem3', 'sources': ['fxd_slit'], 'value': 's200a1'})\\nDMSAttrConstraint({'name': 'subarray', 'sources': ['subarray'], 'value': 'full'})\\nConstraint_Target({'name': 'target', 'sources': ['targetid'], 'value': '2'})\\nConstraint_Obsnum({'name': 'obs_num', 'sources': ['obs_num'], 'value': None})\\nConstraint_TargetAcq({'name': 'target_acq', 'value': 'target_acquisition'})\\nDMSAttrConstraint({'name': 'acq_obsnum', 'sources': ['obs_num'], 'value': <function AsnMixin_Science.__init__.<locals>.<lambda> at 0x2b77de1c2f70>})\\nDMSAttrConstraint({'name': 'asn_candidate', 'sources': ['asn_candidate'], 'value': \\\"\\\\\\\\('o003',\\\\\\\\ 'observation'\\\\\\\\)\\\"})\",\r\n",
      "    \"asn_id\": \"o003\",\r\n",
      "    \"target\": \"t002\",\r\n",
      "    \"asn_pool\": \"jw02288_20230527t003136_pool.csv\",\r\n",
      "    \"products\": [\r\n",
      "        {\r\n",
      "            \"name\": \"jw02288-o003_{source_id}_nirspec_f170lp-g235h-s200a1\",\r\n",
      "            \"members\": [\r\n",
      "                {\r\n",
      "                    \"expname\": \"jw02288003001_04108_00001_nrs1_cal.fits\",\r\n",
      "                    \"exptype\": \"science\",\r\n",
      "                    \"exposerr\": \"null\",\r\n",
      "                    \"asn_candidate\": \"[('c1001', 'group'), ('o003', 'observation')]\"\r\n",
      "                },\r\n",
      "                {\r\n",
      "                    \"expname\": \"jw02288003001_04108_00002_nrs1_cal.fits\",\r\n",
      "                    \"exptype\": \"science\",\r\n",
      "                    \"exposerr\": \"null\",\r\n",
      "                    \"asn_candidate\": \"[('c1001', 'group'), ('o003', 'observation')]\"\r\n",
      "                },\r\n",
      "                {\r\n",
      "                    \"expname\": \"jw02288003001_04108_00001_nrs2_cal.fits\",\r\n",
      "                    \"exptype\": \"science\",\r\n",
      "                    \"exposerr\": \"null\",\r\n",
      "                    \"asn_candidate\": \"[('c1001', 'group'), ('o003', 'observation')]\"\r\n",
      "                },\r\n",
      "                {\r\n",
      "                    \"expname\": \"jw02288003001_04108_00002_nrs2_cal.fits\",\r\n",
      "                    \"exptype\": \"science\",\r\n",
      "                    \"exposerr\": \"null\",\r\n",
      "                    \"asn_candidate\": \"[('c1001', 'group'), ('o003', 'observation')]\"\r\n",
      "                },\r\n",
      "                {\r\n",
      "                    \"expname\": \"jw02288003001_03101_00002_nrs1_cal.fits\",\r\n",
      "                    \"exptype\": \"target_acquisition\",\r\n",
      "                    \"exposerr\": \"null\",\r\n",
      "                    \"asn_candidate\": \"[('c1001', 'group'), ('o003', 'observation')]\"\r\n",
      "                },\r\n",
      "                {\r\n",
      "                    \"expname\": \"jw02288003001_03101_00001_nrs1_cal.fits\",\r\n",
      "                    \"exptype\": \"target_acquisition\",\r\n",
      "                    \"exposerr\": \"null\",\r\n",
      "                    \"asn_candidate\": \"[('c1001', 'group'), ('o003', 'observation')]\"\r\n",
      "                }\r\n",
      "            ]\r\n",
      "        }\r\n",
      "    ]\r\n",
      "}"
     ]
    }
   ],
   "source": [
    "!cat $orig_json_name"
   ]
  },
  {
   "cell_type": "markdown",
   "id": "d6acc778",
   "metadata": {},
   "source": [
    "Read original association file into json object."
   ]
  },
  {
   "cell_type": "code",
   "execution_count": 7,
   "id": "18eaec2d",
   "metadata": {},
   "outputs": [],
   "source": [
    "with open(orig_json_name) as fobj:\n",
    "    asn_data = json.load(fobj)"
   ]
  },
  {
   "cell_type": "markdown",
   "id": "a0382536",
   "metadata": {},
   "source": [
    "Update association data."
   ]
  },
  {
   "cell_type": "code",
   "execution_count": 8,
   "id": "1e436905",
   "metadata": {},
   "outputs": [],
   "source": [
    "grating = 'g140h'\n",
    "asn_data['products'][0]['name'] = grating\n",
    "old_member = asn_data['products'][0]['members'][0]\n",
    "members = []\n",
    "for name in names:\n",
    "    new_member = old_member.copy()\n",
    "    new_member['expname'] = name\n",
    "    members.append(new_member)\n",
    "asn_data['products'][0]['members'] = members"
   ]
  },
  {
   "cell_type": "markdown",
   "id": "59ca193a",
   "metadata": {},
   "source": [
    "Save updated association data to json file."
   ]
  },
  {
   "cell_type": "code",
   "execution_count": 9,
   "id": "72270180",
   "metadata": {},
   "outputs": [],
   "source": [
    "new_json_name = f'{grating}_asn.json'\n",
    "with open(new_json_name, 'w') as fobj:\n",
    "    json.dump(asn_data, fobj, indent=4)"
   ]
  },
  {
   "cell_type": "markdown",
   "id": "f9e9328c",
   "metadata": {},
   "source": [
    "Dump contents of the new association file."
   ]
  },
  {
   "cell_type": "code",
   "execution_count": 10,
   "id": "22dd37e7",
   "metadata": {},
   "outputs": [
    {
     "name": "stdout",
     "output_type": "stream",
     "text": [
      "{\r\n",
      "    \"asn_type\": \"spec3\",\r\n",
      "    \"asn_rule\": \"candidate_Asn_Lv3NRSFSS\",\r\n",
      "    \"version_id\": \"20230527t003136\",\r\n",
      "    \"code_version\": \"1.10.1\",\r\n",
      "    \"degraded_status\": \"No known degraded exposures in association.\",\r\n",
      "    \"program\": \"02288\",\r\n",
      "    \"constraints\": \"DMSAttrConstraint({'name': 'program', 'sources': ['program'], 'value': '2288'})\\nDMSAttrConstraint({'name': 'instrument', 'sources': ['instrume'], 'value': 'nirspec'})\\nDMSAttrConstraint({'name': 'exp_type', 'sources': ['exp_type'], 'value': 'nrs_autoflat|nrs_autowave|nrs_fixedslit'})\\nDMSAttrConstraint({'name': 'opt_elem', 'sources': ['filter'], 'value': 'f170lp'})\\nDMSAttrConstraint({'name': 'opt_elem2', 'sources': ['grating'], 'value': 'g235h'})\\nDMSAttrConstraint({'name': 'opt_elem3', 'sources': ['fxd_slit'], 'value': 's200a1'})\\nDMSAttrConstraint({'name': 'subarray', 'sources': ['subarray'], 'value': 'full'})\\nConstraint_Target({'name': 'target', 'sources': ['targetid'], 'value': '2'})\\nConstraint_Obsnum({'name': 'obs_num', 'sources': ['obs_num'], 'value': None})\\nConstraint_TargetAcq({'name': 'target_acq', 'value': 'target_acquisition'})\\nDMSAttrConstraint({'name': 'acq_obsnum', 'sources': ['obs_num'], 'value': <function AsnMixin_Science.__init__.<locals>.<lambda> at 0x2b77de1c2f70>})\\nDMSAttrConstraint({'name': 'asn_candidate', 'sources': ['asn_candidate'], 'value': \\\"\\\\\\\\('o003',\\\\\\\\ 'observation'\\\\\\\\)\\\"})\",\r\n",
      "    \"asn_id\": \"o003\",\r\n",
      "    \"target\": \"t002\",\r\n",
      "    \"asn_pool\": \"jw02288_20230527t003136_pool.csv\",\r\n",
      "    \"products\": [\r\n",
      "        {\r\n",
      "            \"name\": \"g140h\",\r\n",
      "            \"members\": [\r\n",
      "                {\r\n",
      "                    \"expname\": \"jw02288003001_04102_00001_nrs1_cal.fits\",\r\n",
      "                    \"exptype\": \"science\",\r\n",
      "                    \"exposerr\": \"null\",\r\n",
      "                    \"asn_candidate\": \"[('c1001', 'group'), ('o003', 'observation')]\"\r\n",
      "                },\r\n",
      "                {\r\n",
      "                    \"expname\": \"jw02288003001_04102_00001_nrs2_cal.fits\",\r\n",
      "                    \"exptype\": \"science\",\r\n",
      "                    \"exposerr\": \"null\",\r\n",
      "                    \"asn_candidate\": \"[('c1001', 'group'), ('o003', 'observation')]\"\r\n",
      "                },\r\n",
      "                {\r\n",
      "                    \"expname\": \"jw02288003001_04102_00002_nrs1_cal.fits\",\r\n",
      "                    \"exptype\": \"science\",\r\n",
      "                    \"exposerr\": \"null\",\r\n",
      "                    \"asn_candidate\": \"[('c1001', 'group'), ('o003', 'observation')]\"\r\n",
      "                },\r\n",
      "                {\r\n",
      "                    \"expname\": \"jw02288003001_04102_00002_nrs2_cal.fits\",\r\n",
      "                    \"exptype\": \"science\",\r\n",
      "                    \"exposerr\": \"null\",\r\n",
      "                    \"asn_candidate\": \"[('c1001', 'group'), ('o003', 'observation')]\"\r\n",
      "                },\r\n",
      "                {\r\n",
      "                    \"expname\": \"jw02288003001_04104_00001_nrs1_cal.fits\",\r\n",
      "                    \"exptype\": \"science\",\r\n",
      "                    \"exposerr\": \"null\",\r\n",
      "                    \"asn_candidate\": \"[('c1001', 'group'), ('o003', 'observation')]\"\r\n",
      "                },\r\n",
      "                {\r\n",
      "                    \"expname\": \"jw02288003001_04104_00001_nrs2_cal.fits\",\r\n",
      "                    \"exptype\": \"science\",\r\n",
      "                    \"exposerr\": \"null\",\r\n",
      "                    \"asn_candidate\": \"[('c1001', 'group'), ('o003', 'observation')]\"\r\n",
      "                },\r\n",
      "                {\r\n",
      "                    \"expname\": \"jw02288003001_04104_00002_nrs1_cal.fits\",\r\n",
      "                    \"exptype\": \"science\",\r\n",
      "                    \"exposerr\": \"null\",\r\n",
      "                    \"asn_candidate\": \"[('c1001', 'group'), ('o003', 'observation')]\"\r\n",
      "                },\r\n",
      "                {\r\n",
      "                    \"expname\": \"jw02288003001_04104_00002_nrs2_cal.fits\",\r\n",
      "                    \"exptype\": \"science\",\r\n",
      "                    \"exposerr\": \"null\",\r\n",
      "                    \"asn_candidate\": \"[('c1001', 'group'), ('o003', 'observation')]\"\r\n",
      "                }\r\n",
      "            ]\r\n",
      "        }\r\n",
      "    ]\r\n",
      "}"
     ]
    }
   ],
   "source": [
    "!cat $new_json_name"
   ]
  },
  {
   "cell_type": "markdown",
   "id": "f185f4ee",
   "metadata": {},
   "source": [
    "[Install](https://jwst-pipeline.readthedocs.io/en/stable/) the jwst pipeline, for example into a conda environment. Activate the environment. [Configure](https://jwst-pipeline.readthedocs.io/en/stable/jwst/introduction.html#crds) CRDS nvironment variables. [Run](https://jwst-pipeline.readthedocs.io/en/stable/jwst/introduction.html#running-from-the-command-line) the calwebb_spec3 pipeline from the command line.\n",
    "```\n",
    "$ conda activate jwst\n",
    "(jwst) $ export CRDS_CONTEXT='jwst_1068.pmap'\n",
    "(jwst) $ strun calwebb_spec3 g140h_asn.json\n",
    "```\n",
    "Run this step outside the notebook before continuing."
   ]
  },
  {
   "cell_type": "markdown",
   "id": "3b5d2367",
   "metadata": {},
   "source": [
    "New products will be generated for each SOURCEID specified above, but SOURCEID=1 is the science target.\n",
    "List newly generated products for the science target."
   ]
  },
  {
   "cell_type": "code",
   "execution_count": 11,
   "id": "5add524b",
   "metadata": {},
   "outputs": [
    {
     "name": "stdout",
     "output_type": "stream",
     "text": [
      "g140h_s00001_cal.fits\n",
      "g140h_s00001_crf.fits\n",
      "g140h_s00001_s2d.fits\n",
      "g140h_s00001_x1d.fits\n"
     ]
    }
   ],
   "source": [
    "for path in sorted(Path('.').glob('g140h_s00001_???.fits')):\n",
    "    print(path.name)"
   ]
  },
  {
   "cell_type": "markdown",
   "id": "f02204fe",
   "metadata": {},
   "source": [
    "Plot 1D extracted spectrum."
   ]
  },
  {
   "cell_type": "code",
   "execution_count": 12,
   "id": "2a9f610a",
   "metadata": {
    "scrolled": true
   },
   "outputs": [
    {
     "data": {
      "image/png": "[encoded data removed]",
      "text/plain": [
       "<Figure size 640x480 with 1 Axes>"
      ]
     },
     "metadata": {},
     "output_type": "display_data"
    }
   ],
   "source": [
    "with fits.open('g140h_s00001_x1d.fits') as hdulist:\n",
    "    data = hdulist['extract1d'].data\n",
    "line2d = plt.plot(data['wavelength'], data['flux'])"
   ]
  },
  {
   "cell_type": "code",
   "execution_count": null,
   "id": "4151833d",
   "metadata": {},
   "outputs": [],
   "source": []
  }
 ],
 "metadata": {
  "kernelspec": {
   "display_name": "Python 3 (ipykernel)",
   "language": "python",
   "name": "python3"
  },
  "language_info": {
   "codemirror_mode": {
    "name": "ipython",
    "version": 3
   },
   "file_extension": ".py",
   "mimetype": "text/x-python",
   "name": "python",
   "nbconvert_exporter": "python",
   "pygments_lexer": "ipython3",
   "version": "3.10.9"
  }
 },
 "nbformat": 4,
 "nbformat_minor": 5
}
